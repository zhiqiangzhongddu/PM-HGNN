{
 "cells": [
  {
   "cell_type": "code",
   "execution_count": null,
   "metadata": {
    "pycharm": {
     "is_executing": false
    }
   },
   "outputs": [],
   "source": [
    "import pathlib\n",
    "\n",
    "import numpy as np\n",
    "import scipy.sparse\n",
    "import scipy.io\n",
    "import pandas as pd\n",
    "from sklearn.feature_extraction.text import CountVectorizer\n",
    "import networkx as nx\n",
    "import utils.preprocess\n",
    "from sklearn.model_selection import train_test_split"
   ]
  },
  {
   "cell_type": "code",
   "execution_count": null,
   "metadata": {
    "jupyter": {
     "outputs_hidden": false
    },
    "pycharm": {
     "is_executing": false,
     "name": "#%%\n"
    }
   },
   "outputs": [],
   "source": [
    "num_ntypes = 3"
   ]
  },
  {
   "cell_type": "code",
   "execution_count": null,
   "metadata": {
    "jupyter": {
     "outputs_hidden": false
    },
    "pycharm": {
     "is_executing": false,
     "name": "#%%\n"
    }
   },
   "outputs": [],
   "source": [
    "# load raw data, delete movies with no actor or director\n",
    "movies = pd.read_csv('../data/MAGNN/IMDB/movie_metadata.csv', encoding='utf-8').dropna(\n",
    "                axis=0, subset=['actor_1_name', 'director_name']).reset_index(drop=True)"
   ]
  },
  {
   "cell_type": "code",
   "execution_count": null,
   "metadata": {
    "jupyter": {
     "outputs_hidden": false
    },
    "pycharm": {
     "is_executing": false,
     "name": "#%%\n"
    }
   },
   "outputs": [],
   "source": [
    "# extract labels, and delete movies with unwanted genres\n",
    "# 0 for action, 1 for comedy, 2 for drama, -1 for others\n",
    "labels = np.zeros((len(movies)), dtype=int)\n",
    "for movie_idx, genres in movies['genres'].iteritems():\n",
    "    labels[movie_idx] = -1\n",
    "    for genre in genres.split('|'):\n",
    "        if genre == 'Action':\n",
    "            labels[movie_idx] = 0\n",
    "            break\n",
    "        elif genre == 'Comedy':\n",
    "            labels[movie_idx] = 1\n",
    "            break\n",
    "        elif genre == 'Drama':\n",
    "            labels[movie_idx] = 2\n",
    "            break\n",
    "unwanted_idx = np.where(labels == -1)[0]\n",
    "movies = movies.drop(unwanted_idx).reset_index(drop=True)\n",
    "labels = np.delete(labels, unwanted_idx, 0)"
   ]
  },
  {
   "cell_type": "code",
   "execution_count": null,
   "metadata": {
    "jupyter": {
     "outputs_hidden": false
    },
    "pycharm": {
     "is_executing": false,
     "name": "#%%\n"
    }
   },
   "outputs": [],
   "source": [
    "# get director list and actor list\n",
    "directors = list(set(movies['director_name'].dropna()))\n",
    "directors.sort()\n",
    "actors = list(set(movies['actor_1_name'].dropna().to_list() +\n",
    "                  movies['actor_2_name'].dropna().to_list() +\n",
    "                  movies['actor_3_name'].dropna().to_list()))\n",
    "actors.sort()"
   ]
  },
  {
   "cell_type": "code",
   "execution_count": null,
   "metadata": {
    "jupyter": {
     "outputs_hidden": false
    },
    "pycharm": {
     "is_executing": false,
     "name": "#%%\n"
    }
   },
   "outputs": [],
   "source": [
    "# build the adjacency matrix for the graph consisting of movies, directors and actors\n",
    "# 0 for movies, 1 for directors, 2 for actors\n",
    "dim = len(movies) + len(directors) + len(actors)\n",
    "type_mask = np.zeros((dim), dtype=int)\n",
    "type_mask[len(movies):len(movies)+len(directors)] = 1\n",
    "type_mask[len(movies)+len(directors):] = 2\n",
    "\n",
    "adjM = np.zeros((dim, dim), dtype=int)\n",
    "for movie_idx, row in movies.iterrows():\n",
    "    if row['director_name'] in directors:\n",
    "        director_idx = directors.index(row['director_name'])\n",
    "        adjM[movie_idx, len(movies) + director_idx] = 1\n",
    "        adjM[len(movies) + director_idx, movie_idx] = 1\n",
    "    if row['actor_1_name'] in actors:\n",
    "        actor_idx = actors.index(row['actor_1_name'])\n",
    "        adjM[movie_idx, len(movies) + len(directors) + actor_idx] = 1\n",
    "        adjM[len(movies) + len(directors) + actor_idx, movie_idx] = 1\n",
    "    if row['actor_2_name'] in actors:\n",
    "        actor_idx = actors.index(row['actor_2_name'])\n",
    "        adjM[movie_idx, len(movies) + len(directors) + actor_idx] = 1\n",
    "        adjM[len(movies) + len(directors) + actor_idx, movie_idx] = 1\n",
    "    if row['actor_3_name'] in actors:\n",
    "        actor_idx = actors.index(row['actor_3_name'])\n",
    "        adjM[movie_idx, len(movies) + len(directors) + actor_idx] = 1\n",
    "        adjM[len(movies) + len(directors) + actor_idx, movie_idx] = 1"
   ]
  },
  {
   "cell_type": "code",
   "execution_count": null,
   "metadata": {
    "jupyter": {
     "outputs_hidden": false
    },
    "pycharm": {
     "is_executing": false,
     "name": "#%%\n"
    }
   },
   "outputs": [],
   "source": [
    "# extract bag-of-word representations of plot keywords for each movie\n",
    "# X is a sparse matrix\n",
    "vectorizer = CountVectorizer(min_df=2)\n",
    "movie_X = vectorizer.fit_transform(movies['plot_keywords'].fillna('').values)\n",
    "# assign features to directors and actors as the means of their associated movies' features\n",
    "adjM_da2m = adjM[len(movies):, :len(movies)]\n",
    "adjM_da2m_normalized = np.diag(1 / adjM_da2m.sum(axis=1)).dot(adjM_da2m)\n",
    "director_actor_X = scipy.sparse.csr_matrix(adjM_da2m_normalized).dot(movie_X)\n",
    "full_X = scipy.sparse.vstack([movie_X, director_actor_X])"
   ]
  },
  {
   "cell_type": "code",
   "execution_count": null,
   "metadata": {},
   "outputs": [],
   "source": [
    "m_vs_d = adjM[:len(movies), len(movies):len(movies)+len(directors)]\n",
    "m_vs_a = adjM[:len(movies), len(movies)+len(directors):]\n",
    "\n",
    "feature_m = full_X[:len(movies), :]\n",
    "feature_d = full_X[len(movies):len(movies)+len(directors), :]\n",
    "feature_a = full_X[len(movies)+len(directors):len(movies)+len(directors)+len(actors), :]"
   ]
  },
  {
   "cell_type": "code",
   "execution_count": null,
   "metadata": {},
   "outputs": [],
   "source": [
    "np.save('../input/IMDB_processed/m_vs_d.npy', m_vs_d)\n",
    "np.save('../input/IMDB_processed/m_vs_a.npy', m_vs_a)\n",
    "np.save('../input/IMDB_processed/labels.npy', labels)\n",
    "\n",
    "scipy.sparse.save_npz('../input/IMDB_processed/feature_m.npz', feature_m)\n",
    "scipy.sparse.save_npz('../input/IMDB_processed/feature_d.npz', feature_d)\n",
    "scipy.sparse.save_npz('../input/IMDB_processed/feature_a.npz', feature_a)"
   ]
  },
  {
   "cell_type": "code",
   "execution_count": null,
   "metadata": {},
   "outputs": [],
   "source": []
  },
  {
   "cell_type": "code",
   "execution_count": null,
   "metadata": {},
   "outputs": [],
   "source": []
  }
 ],
 "metadata": {
  "kernelspec": {
   "display_name": "Python 3",
   "language": "python",
   "name": "python3"
  },
  "language_info": {
   "codemirror_mode": {
    "name": "ipython",
    "version": 3
   },
   "file_extension": ".py",
   "mimetype": "text/x-python",
   "name": "python",
   "nbconvert_exporter": "python",
   "pygments_lexer": "ipython3",
   "version": "3.8.5"
  },
  "pycharm": {
   "stem_cell": {
    "cell_type": "raw",
    "metadata": {
     "collapsed": false
    },
    "source": []
   }
  }
 },
 "nbformat": 4,
 "nbformat_minor": 4
}
